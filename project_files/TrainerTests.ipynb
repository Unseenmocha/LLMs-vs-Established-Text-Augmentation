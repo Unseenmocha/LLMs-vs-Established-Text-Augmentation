{
 "cells": [
  {
   "cell_type": "code",
   "execution_count": 1,
   "metadata": {},
   "outputs": [
    {
     "ename": "ModuleNotFoundError",
     "evalue": "No module named 'Bert_Trainer'",
     "output_type": "error",
     "traceback": [
      "\u001b[1;31m---------------------------------------------------------------------------\u001b[0m",
      "\u001b[1;31mModuleNotFoundError\u001b[0m                       Traceback (most recent call last)",
      "Cell \u001b[1;32mIn[1], line 1\u001b[0m\n\u001b[1;32m----> 1\u001b[0m \u001b[38;5;28;01mfrom\u001b[39;00m \u001b[38;5;21;01mBert_Trainer\u001b[39;00m \u001b[38;5;28;01mimport\u001b[39;00m Bert_Trainer\n\u001b[0;32m      2\u001b[0m \u001b[38;5;28;01mimport\u001b[39;00m \u001b[38;5;21;01mpandas\u001b[39;00m \u001b[38;5;28;01mas\u001b[39;00m \u001b[38;5;21;01mpd\u001b[39;00m\n\u001b[0;32m      3\u001b[0m \u001b[38;5;28;01mfrom\u001b[39;00m \u001b[38;5;21;01mDataSets\u001b[39;00m \u001b[38;5;28;01mimport\u001b[39;00m LyricsDataset\n",
      "\u001b[1;31mModuleNotFoundError\u001b[0m: No module named 'Bert_Trainer'"
     ]
    }
   ],
   "source": [
    "from Bert_Trainer import Bert_Trainer\n",
    "import pandas as pd\n",
    "from DataSets import LyricsDataset\n",
    "import torch\n",
    "\n",
    "\n",
    "train = pd.read_csv('../datasets/spotify/spotify_10_train_unaugmented.csv')\n",
    "test = pd.read_csv('../datasets/spotify/spotify_10_test.csv')\n",
    "val = pd.read_csv('../datasets/spotify/spotify_10_val.csv')\n",
    "\n",
    "\n",
    "train = train.loc[train['label'].isin([0,1,2])].reset_index(drop=True)\n",
    "test = test.loc[test['label'].isin([0,1,2])].reset_index(drop=True)\n",
    "val = val.loc[val['label'].isin([0,1,2])].reset_index(drop=True)\n",
    "\n",
    "train = train.groupby('label').sample(50)\n",
    "test = test.groupby('label').sample(50)\n",
    "val = val.groupby('label').sample(50)\n",
    "\n",
    "class_weights = train.groupby('label').count()\n",
    "\n",
    "class_weights = (1/class_weights['text'])\n",
    "class_weights = torch.tensor(class_weights/class_weights.sum(), dtype=torch.float32)\n",
    "\n",
    "x_train_spotify = train[['text']]\n",
    "y_train_spotify = train[['label']]\n",
    "\n",
    "x_test_spotify = test[['text']]\n",
    "y_test_spotify = test[['label']]\n",
    "\n",
    "x_val_spotify = test[['text']]\n",
    "y_val_spotify = test[['label']]\n",
    "\n",
    "\n",
    "# Convert to lists\n",
    "x_train_spotify = x_train_spotify['text'].tolist()\n",
    "y_train_spotify = y_train_spotify['label'].tolist()\n",
    "x_test_spotify = x_test_spotify['text'].tolist()\n",
    "y_test_spotify = y_test_spotify['label'].tolist()\n",
    "x_val_spotify = x_val_spotify['text'].tolist()\n",
    "y_val_spotify = y_val_spotify['label'].tolist()\n",
    "\n",
    "\n",
    "\n"
   ]
  },
  {
   "cell_type": "code",
   "execution_count": 7,
   "metadata": {},
   "outputs": [
    {
     "name": "stderr",
     "output_type": "stream",
     "text": [
      "Some weights of BertForSequenceClassification were not initialized from the model checkpoint at bert-base-uncased and are newly initialized: ['classifier.bias', 'classifier.weight']\n",
      "You should probably TRAIN this model on a down-stream task to be able to use it for predictions and inference.\n"
     ]
    },
    {
     "name": "stdout",
     "output_type": "stream",
     "text": [
      "Running Epoch 1/5...\n",
      "computing batch 18/19\n",
      "Epoch 1/5 Results                  \n",
      "Training loss: 1.0774764010780735\n",
      "Training accuracy: 0.41333333333333333\n",
      "Validation Loss: 1.0860316157341003\n",
      "Validation Accuracy: 0.3466666666666667\n",
      "\n",
      "Running Epoch 2/5...\n",
      "computing batch 18/19\n",
      "Epoch 2/5 Results                  \n",
      "Training loss: 0.839733815506885\n",
      "Training accuracy: 0.6133333333333333\n",
      "Validation Loss: 0.9325634052878932\n",
      "Validation Accuracy: 0.5533333333333333\n",
      "\n",
      "Running Epoch 3/5...\n",
      "computing batch 18/19\n",
      "Epoch 3/5 Results                  \n",
      "Training loss: 0.4336444249278621\n",
      "Training accuracy: 0.8466666666666667\n",
      "Validation Loss: 1.28652118381701\n",
      "Validation Accuracy: 0.5333333333333333\n",
      "\n",
      "Running Epoch 4/5...\n",
      "computing batch 18/19\n",
      "Epoch 4/5 Results                  \n",
      "Training loss: 0.17215946091240958\n",
      "Training accuracy: 0.9466666666666667\n",
      "Validation Loss: 2.145142244665246\n",
      "Validation Accuracy: 0.4266666666666667\n",
      "\n",
      "Running Epoch 5/5...\n",
      "computing batch 18/19\n",
      "Epoch 5/5 Results                  \n",
      "Training loss: 0.23982354753503674\n",
      "Training accuracy: 0.9333333333333333\n",
      "Validation Loss: 2.195539867407397\n",
      "Validation Accuracy: 0.4266666666666667\n",
      "\n"
     ]
    }
   ],
   "source": [
    "from Bert_Trainer import Bert_Trainer\n",
    "import torch\n",
    "\n",
    "# test loading data and training model\n",
    "trainer = Bert_Trainer(num_labels=3, dataset=LyricsDataset, model_save_name=\"throwaway_bert\", class_weights=class_weights)\n",
    "trainer.load_data(x_train_spotify, y_train_spotify, x_test_spotify, y_test_spotify, x_val_spotify, y_val_spotify, batch_size=8)\n",
    "trainer.train(lr=1e-4, epochs=5, early_stopping=False, early_stopping_tol=0.5)\n",
    "accuracy, loss, report = trainer.evaluate(mode='val')\n",
    "trainer.save_model()"
   ]
  },
  {
   "cell_type": "code",
   "execution_count": null,
   "metadata": {},
   "outputs": [],
   "source": [
    "# check model saved correctly\n",
    "new_trainer = Bert_Trainer(num_labels=3, dataset=LyricsDataset, model_save_name=\"throwaway_bert\", class_weights=class_weights)\n",
    "new_trainer.load_data(x_train_spotify, y_train_spotify, x_test_spotify, y_test_spotify, x_val_spotify, y_val_spotify, batch_size=8)\n",
    "new_trainer.load_model('throwaway_bert')\n",
    "acc, loss, report = new_trainer.evaluate('val')\n",
    "print(acc)\n",
    "print(report)"
   ]
  }
 ],
 "metadata": {
  "kernelspec": {
   "display_name": "base",
   "language": "python",
   "name": "python3"
  },
  "language_info": {
   "codemirror_mode": {
    "name": "ipython",
    "version": 3
   },
   "file_extension": ".py",
   "mimetype": "text/x-python",
   "name": "python",
   "nbconvert_exporter": "python",
   "pygments_lexer": "ipython3",
   "version": "3.10.15"
  }
 },
 "nbformat": 4,
 "nbformat_minor": 2
}
