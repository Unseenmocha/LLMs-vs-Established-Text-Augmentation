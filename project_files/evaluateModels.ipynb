{
 "cells": [
  {
   "cell_type": "code",
   "execution_count": 1,
   "metadata": {},
   "outputs": [],
   "source": [
    "from Bert_Trainer import Bert_Trainer\n",
    "import pandas as pd\n",
    "from DataSets import JobDescDataset"
   ]
  },
  {
   "cell_type": "code",
   "execution_count": 2,
   "metadata": {},
   "outputs": [],
   "source": [
    "from Data_Reader import Linkedin_Data_Reader\n",
    "\n",
    "reader = Linkedin_Data_Reader()\n",
    "x_test, y_test, x_val, y_val = reader.read_test_val()\n",
    "num_labels = reader.get_num_labels()"
   ]
  },
  {
   "cell_type": "code",
   "execution_count": null,
   "metadata": {},
   "outputs": [],
   "source": [
    "\n",
    "trainer = Bert_Trainer(num_labels, JobDescDataset, 'evaluate')\n",
    "\n",
    "for name, param in trainer.model.named_parameters():\n",
    "    print(f'{name}: {\"Trainable\" if param.requires_grad else \"Frozen\"}')\n"
   ]
  },
  {
   "cell_type": "code",
   "execution_count": null,
   "metadata": {},
   "outputs": [
    {
     "name": "stderr",
     "output_type": "stream",
     "text": [
      "Some weights of BertForSequenceClassification were not initialized from the model checkpoint at bert-base-uncased and are newly initialized: ['classifier.bias', 'classifier.weight']\n",
      "You should probably TRAIN this model on a down-stream task to be able to use it for predictions and inference.\n",
      "c:\\Users\\unsee\\OneDrive\\Desktop\\pytorch_test\\Bert_Trainer.py:47: FutureWarning: You are using `torch.load` with `weights_only=False` (the current default value), which uses the default pickle module implicitly. It is possible to construct malicious pickle data which will execute arbitrary code during unpickling (See https://github.com/pytorch/pytorch/blob/main/SECURITY.md#untrusted-models for more details). In a future release, the default value for `weights_only` will be flipped to `True`. This limits the functions that could be executed during unpickling. Arbitrary objects will no longer be allowed to be loaded via this mode unless they are explicitly allowlisted by the user via `torch.serialization.add_safe_globals`. We recommend you start setting `weights_only=True` for any use case where you don't have full control of the loaded file. Please open an issue on GitHub for any issues related to this experimental feature.\n",
      "  state_dict = torch.load('./models/'+path+'.pth')\n"
     ]
    },
    {
     "name": "stdout",
     "output_type": "stream",
     "text": [
      "0.9588963963963963\n",
      "              precision    recall  f1-score   support\n",
      "\n",
      "           0       0.94      0.99      0.96       316\n",
      "           1       0.97      0.98      0.98       296\n",
      "           2       0.89      0.88      0.89       144\n",
      "           3       0.97      0.99      0.98       187\n",
      "           4       0.98      0.95      0.96       284\n",
      "           5       0.94      0.95      0.95       172\n",
      "           6       0.96      0.89      0.92       101\n",
      "           7       1.00      1.00      1.00        54\n",
      "           8       0.96      0.92      0.94        78\n",
      "           9       0.97      0.97      0.97       144\n",
      "\n",
      "    accuracy                           0.96      1776\n",
      "   macro avg       0.96      0.95      0.96      1776\n",
      "weighted avg       0.96      0.96      0.96      1776\n",
      "\n",
      "0.9594366197183098\n",
      "              precision    recall  f1-score   support\n",
      "\n",
      "           0       0.92      0.96      0.94       313\n",
      "           1       0.99      0.98      0.99       315\n",
      "           2       0.93      0.89      0.91       151\n",
      "           3       0.95      0.99      0.97       174\n",
      "           4       0.98      0.98      0.98       284\n",
      "           5       0.94      0.95      0.95       159\n",
      "           6       0.95      0.81      0.87       106\n",
      "           7       1.00      1.00      1.00        59\n",
      "           8       1.00      0.96      0.98        54\n",
      "           9       0.98      0.99      0.98       160\n",
      "\n",
      "    accuracy                           0.96      1775\n",
      "   macro avg       0.96      0.95      0.96      1775\n",
      "weighted avg       0.96      0.96      0.96      1775\n",
      "\n"
     ]
    }
   ],
   "source": [
    "# Evaluate linkedin no_aug\n",
    "\n",
    "# training data loaded in doesn't matter, won't be used\n",
    "trainer.load_data(x_test, y_test, x_test, y_test, x_val, y_val, 8)\n",
    "\n",
    "trainer.load_model('linkedin_noaug_bert')\n",
    "\n",
    "acc, loss, report = trainer.evaluate('val')\n",
    "\n",
    "print(acc)\n",
    "print(report)\n",
    "\n",
    "acc, loss, report = trainer.evaluate('test')\n",
    "\n",
    "print(acc)\n",
    "print(report)"
   ]
  },
  {
   "cell_type": "code",
   "execution_count": 4,
   "metadata": {},
   "outputs": [
    {
     "name": "stderr",
     "output_type": "stream",
     "text": [
      "Some weights of BertForSequenceClassification were not initialized from the model checkpoint at bert-base-uncased and are newly initialized: ['classifier.bias', 'classifier.weight']\n",
      "You should probably TRAIN this model on a down-stream task to be able to use it for predictions and inference.\n",
      "c:\\Users\\unsee\\OneDrive\\Desktop\\pytorch_test\\Bert_Trainer.py:47: FutureWarning: You are using `torch.load` with `weights_only=False` (the current default value), which uses the default pickle module implicitly. It is possible to construct malicious pickle data which will execute arbitrary code during unpickling (See https://github.com/pytorch/pytorch/blob/main/SECURITY.md#untrusted-models for more details). In a future release, the default value for `weights_only` will be flipped to `True`. This limits the functions that could be executed during unpickling. Arbitrary objects will no longer be allowed to be loaded via this mode unless they are explicitly allowlisted by the user via `torch.serialization.add_safe_globals`. We recommend you start setting `weights_only=True` for any use case where you don't have full control of the loaded file. Please open an issue on GitHub for any issues related to this experimental feature.\n",
      "  state_dict = torch.load('./models/'+path+'.pth')\n"
     ]
    },
    {
     "name": "stdout",
     "output_type": "stream",
     "text": [
      "0.9577702702702703\n",
      "              precision    recall  f1-score   support\n",
      "\n",
      "           0       0.94      0.98      0.96       316\n",
      "           1       0.98      0.98      0.98       296\n",
      "           2       0.91      0.85      0.88       144\n",
      "           3       0.98      0.99      0.99       187\n",
      "           4       0.97      0.95      0.96       284\n",
      "           5       0.95      0.98      0.97       172\n",
      "           6       0.93      0.87      0.90       101\n",
      "           7       1.00      1.00      1.00        54\n",
      "           8       0.96      0.90      0.93        78\n",
      "           9       0.95      0.99      0.97       144\n",
      "\n",
      "    accuracy                           0.96      1776\n",
      "   macro avg       0.96      0.95      0.95      1776\n",
      "weighted avg       0.96      0.96      0.96      1776\n",
      "\n",
      "0.9605633802816902\n",
      "              precision    recall  f1-score   support\n",
      "\n",
      "           0       0.93      0.97      0.95       313\n",
      "           1       0.99      0.98      0.99       315\n",
      "           2       0.95      0.84      0.89       151\n",
      "           3       0.99      0.99      0.99       174\n",
      "           4       0.98      0.98      0.98       284\n",
      "           5       0.96      0.98      0.97       159\n",
      "           6       0.92      0.82      0.87       106\n",
      "           7       0.97      1.00      0.98        59\n",
      "           8       0.90      0.98      0.94        54\n",
      "           9       0.95      0.98      0.96       160\n",
      "\n",
      "    accuracy                           0.96      1775\n",
      "   macro avg       0.95      0.95      0.95      1775\n",
      "weighted avg       0.96      0.96      0.96      1775\n",
      "\n"
     ]
    }
   ],
   "source": [
    "# Evaluate linkedin backtrans\n",
    "\n",
    "trainer = Bert_Trainer(num_labels, JobDescDataset, 'evaluate')\n",
    "\n",
    "trainer.load_data(x_test, y_test, x_test, y_test, x_val, y_val, 8)\n",
    "\n",
    "trainer.load_model('linkedin_backtrans_bert')\n",
    "\n",
    "acc, loss, report = trainer.evaluate('val')\n",
    "\n",
    "print(acc)\n",
    "print(report)\n",
    "\n",
    "acc, loss, report = trainer.evaluate('test')\n",
    "\n",
    "print(acc)\n",
    "print(report)"
   ]
  },
  {
   "cell_type": "code",
   "execution_count": 5,
   "metadata": {},
   "outputs": [
    {
     "name": "stderr",
     "output_type": "stream",
     "text": [
      "Some weights of BertForSequenceClassification were not initialized from the model checkpoint at bert-base-uncased and are newly initialized: ['classifier.bias', 'classifier.weight']\n",
      "You should probably TRAIN this model on a down-stream task to be able to use it for predictions and inference.\n",
      "c:\\Users\\unsee\\OneDrive\\Desktop\\pytorch_test\\Bert_Trainer.py:47: FutureWarning: You are using `torch.load` with `weights_only=False` (the current default value), which uses the default pickle module implicitly. It is possible to construct malicious pickle data which will execute arbitrary code during unpickling (See https://github.com/pytorch/pytorch/blob/main/SECURITY.md#untrusted-models for more details). In a future release, the default value for `weights_only` will be flipped to `True`. This limits the functions that could be executed during unpickling. Arbitrary objects will no longer be allowed to be loaded via this mode unless they are explicitly allowlisted by the user via `torch.serialization.add_safe_globals`. We recommend you start setting `weights_only=True` for any use case where you don't have full control of the loaded file. Please open an issue on GitHub for any issues related to this experimental feature.\n",
      "  state_dict = torch.load('./models/'+path+'.pth')\n"
     ]
    },
    {
     "name": "stdout",
     "output_type": "stream",
     "text": [
      "0.9566441441441441\n",
      "              precision    recall  f1-score   support\n",
      "\n",
      "           0       0.97      0.97      0.97       316\n",
      "           1       0.96      0.99      0.97       296\n",
      "           2       0.94      0.81      0.87       144\n",
      "           3       0.97      0.98      0.98       187\n",
      "           4       0.95      0.98      0.96       284\n",
      "           5       0.95      0.96      0.96       172\n",
      "           6       0.90      0.92      0.91       101\n",
      "           7       0.98      1.00      0.99        54\n",
      "           8       0.97      0.90      0.93        78\n",
      "           9       0.97      0.97      0.97       144\n",
      "\n",
      "    accuracy                           0.96      1776\n",
      "   macro avg       0.96      0.95      0.95      1776\n",
      "weighted avg       0.96      0.96      0.96      1776\n",
      "\n",
      "0.9645070422535211\n",
      "              precision    recall  f1-score   support\n",
      "\n",
      "           0       0.96      0.96      0.96       313\n",
      "           1       0.98      0.99      0.99       315\n",
      "           2       0.98      0.81      0.89       151\n",
      "           3       0.97      0.99      0.98       174\n",
      "           4       0.97      0.99      0.98       284\n",
      "           5       0.97      0.95      0.96       159\n",
      "           6       0.89      0.95      0.92       106\n",
      "           7       0.98      1.00      0.99        59\n",
      "           8       0.93      0.98      0.95        54\n",
      "           9       0.97      0.99      0.98       160\n",
      "\n",
      "    accuracy                           0.96      1775\n",
      "   macro avg       0.96      0.96      0.96      1775\n",
      "weighted avg       0.97      0.96      0.96      1775\n",
      "\n"
     ]
    }
   ],
   "source": [
    "# Evaluate linkedin llm\n",
    "\n",
    "trainer = Bert_Trainer(num_labels, JobDescDataset, 'evaluate')\n",
    "\n",
    "trainer.load_data(x_test, y_test, x_test, y_test, x_val, y_val, 8)\n",
    "\n",
    "trainer.load_model('linkedin_llm_bert')\n",
    "\n",
    "acc, loss, report = trainer.evaluate('val')\n",
    "\n",
    "print(acc)\n",
    "print(report)\n",
    "\n",
    "acc, loss, report = trainer.evaluate('test')\n",
    "\n",
    "print(acc)\n",
    "print(report)"
   ]
  },
  {
   "cell_type": "code",
   "execution_count": 6,
   "metadata": {},
   "outputs": [
    {
     "name": "stderr",
     "output_type": "stream",
     "text": [
      "Some weights of BertForSequenceClassification were not initialized from the model checkpoint at bert-base-uncased and are newly initialized: ['classifier.bias', 'classifier.weight']\n",
      "You should probably TRAIN this model on a down-stream task to be able to use it for predictions and inference.\n",
      "c:\\Users\\unsee\\OneDrive\\Desktop\\pytorch_test\\Bert_Trainer.py:47: FutureWarning: You are using `torch.load` with `weights_only=False` (the current default value), which uses the default pickle module implicitly. It is possible to construct malicious pickle data which will execute arbitrary code during unpickling (See https://github.com/pytorch/pytorch/blob/main/SECURITY.md#untrusted-models for more details). In a future release, the default value for `weights_only` will be flipped to `True`. This limits the functions that could be executed during unpickling. Arbitrary objects will no longer be allowed to be loaded via this mode unless they are explicitly allowlisted by the user via `torch.serialization.add_safe_globals`. We recommend you start setting `weights_only=True` for any use case where you don't have full control of the loaded file. Please open an issue on GitHub for any issues related to this experimental feature.\n",
      "  state_dict = torch.load('./models/'+path+'.pth')\n"
     ]
    },
    {
     "name": "stdout",
     "output_type": "stream",
     "text": [
      "0.9543918918918919\n",
      "              precision    recall  f1-score   support\n",
      "\n",
      "           0       0.95      0.97      0.96       316\n",
      "           1       0.96      0.98      0.97       296\n",
      "           2       0.91      0.81      0.86       144\n",
      "           3       0.98      0.97      0.98       187\n",
      "           4       0.98      0.97      0.98       284\n",
      "           5       0.94      0.99      0.96       172\n",
      "           6       0.90      0.89      0.90       101\n",
      "           7       0.98      1.00      0.99        54\n",
      "           8       0.92      0.90      0.91        78\n",
      "           9       0.96      0.97      0.96       144\n",
      "\n",
      "    accuracy                           0.95      1776\n",
      "   macro avg       0.95      0.94      0.95      1776\n",
      "weighted avg       0.95      0.95      0.95      1776\n",
      "\n",
      "0.9650704225352112\n",
      "              precision    recall  f1-score   support\n",
      "\n",
      "           0       0.95      0.97      0.96       313\n",
      "           1       0.99      0.99      0.99       315\n",
      "           2       0.98      0.85      0.91       151\n",
      "           3       0.99      0.98      0.99       174\n",
      "           4       0.97      1.00      0.98       284\n",
      "           5       0.95      0.97      0.96       159\n",
      "           6       0.91      0.89      0.90       106\n",
      "           7       1.00      1.00      1.00        59\n",
      "           8       0.90      0.98      0.94        54\n",
      "           9       0.96      0.96      0.96       160\n",
      "\n",
      "    accuracy                           0.97      1775\n",
      "   macro avg       0.96      0.96      0.96      1775\n",
      "weighted avg       0.97      0.97      0.96      1775\n",
      "\n"
     ]
    }
   ],
   "source": [
    "# Evaluate linkedin classical\n",
    "\n",
    "trainer = Bert_Trainer(num_labels, JobDescDataset, 'evaluate')\n",
    "\n",
    "trainer.load_data(x_test, y_test, x_test, y_test, x_val, y_val, 8)\n",
    "\n",
    "trainer.load_model('linkedin_classical_bert')\n",
    "\n",
    "acc, loss, report = trainer.evaluate('val')\n",
    "\n",
    "print(acc)\n",
    "print(report)\n",
    "\n",
    "acc, loss, report = trainer.evaluate('test')\n",
    "\n",
    "print(acc)\n",
    "print(report)"
   ]
  },
  {
   "cell_type": "code",
   "execution_count": 7,
   "metadata": {},
   "outputs": [],
   "source": [
    "from DataSets import LyricsDataset\n",
    "from Data_Reader import Spotify_Data_Reader\n",
    "reader = Spotify_Data_Reader()\n",
    "x_test, y_test, x_val, y_val = reader.read_test_val()\n",
    "num_labels = reader.get_num_labels()"
   ]
  },
  {
   "cell_type": "code",
   "execution_count": 8,
   "metadata": {},
   "outputs": [
    {
     "name": "stderr",
     "output_type": "stream",
     "text": [
      "Some weights of BertForSequenceClassification were not initialized from the model checkpoint at bert-base-uncased and are newly initialized: ['classifier.bias', 'classifier.weight']\n",
      "You should probably TRAIN this model on a down-stream task to be able to use it for predictions and inference.\n",
      "c:\\Users\\unsee\\OneDrive\\Desktop\\pytorch_test\\Bert_Trainer.py:47: FutureWarning: You are using `torch.load` with `weights_only=False` (the current default value), which uses the default pickle module implicitly. It is possible to construct malicious pickle data which will execute arbitrary code during unpickling (See https://github.com/pytorch/pytorch/blob/main/SECURITY.md#untrusted-models for more details). In a future release, the default value for `weights_only` will be flipped to `True`. This limits the functions that could be executed during unpickling. Arbitrary objects will no longer be allowed to be loaded via this mode unless they are explicitly allowlisted by the user via `torch.serialization.add_safe_globals`. We recommend you start setting `weights_only=True` for any use case where you don't have full control of the loaded file. Please open an issue on GitHub for any issues related to this experimental feature.\n",
      "  state_dict = torch.load('./models/'+path+'.pth')\n"
     ]
    },
    {
     "name": "stdout",
     "output_type": "stream",
     "text": [
      "0.6694587628865979\n",
      "              precision    recall  f1-score   support\n",
      "\n",
      "           0       0.77      0.74      0.75       430\n",
      "           1       0.67      0.88      0.76       343\n",
      "           2       0.50      0.55      0.52       234\n",
      "           3       0.70      0.71      0.70       241\n",
      "           4       0.55      0.35      0.43       180\n",
      "           5       1.00      0.10      0.18        10\n",
      "           6       0.60      0.71      0.65        17\n",
      "           7       0.90      0.43      0.58        21\n",
      "           8       0.71      0.14      0.23        37\n",
      "           9       0.84      0.79      0.82        39\n",
      "\n",
      "    accuracy                           0.67      1552\n",
      "   macro avg       0.72      0.54      0.56      1552\n",
      "weighted avg       0.67      0.67      0.66      1552\n",
      "\n",
      "0.6404639175257731\n",
      "              precision    recall  f1-score   support\n",
      "\n",
      "           0       0.81      0.70      0.75       448\n",
      "           1       0.64      0.89      0.75       341\n",
      "           2       0.45      0.50      0.48       239\n",
      "           3       0.63      0.71      0.67       234\n",
      "           4       0.56      0.34      0.42       182\n",
      "           5       0.00      0.00      0.00        11\n",
      "           6       0.22      0.33      0.27        12\n",
      "           7       0.86      0.23      0.36        26\n",
      "           8       0.25      0.03      0.06        30\n",
      "           9       0.70      0.79      0.74        29\n",
      "\n",
      "    accuracy                           0.64      1552\n",
      "   macro avg       0.51      0.45      0.45      1552\n",
      "weighted avg       0.64      0.64      0.63      1552\n",
      "\n"
     ]
    },
    {
     "name": "stderr",
     "output_type": "stream",
     "text": [
      "c:\\Users\\unsee\\anaconda3\\lib\\site-packages\\sklearn\\metrics\\_classification.py:1509: UndefinedMetricWarning: Precision is ill-defined and being set to 0.0 in labels with no predicted samples. Use `zero_division` parameter to control this behavior.\n",
      "  _warn_prf(average, modifier, f\"{metric.capitalize()} is\", len(result))\n",
      "c:\\Users\\unsee\\anaconda3\\lib\\site-packages\\sklearn\\metrics\\_classification.py:1509: UndefinedMetricWarning: Precision is ill-defined and being set to 0.0 in labels with no predicted samples. Use `zero_division` parameter to control this behavior.\n",
      "  _warn_prf(average, modifier, f\"{metric.capitalize()} is\", len(result))\n",
      "c:\\Users\\unsee\\anaconda3\\lib\\site-packages\\sklearn\\metrics\\_classification.py:1509: UndefinedMetricWarning: Precision is ill-defined and being set to 0.0 in labels with no predicted samples. Use `zero_division` parameter to control this behavior.\n",
      "  _warn_prf(average, modifier, f\"{metric.capitalize()} is\", len(result))\n"
     ]
    }
   ],
   "source": [
    "# evaluate spotify no_aug\n",
    "\n",
    "trainer = Bert_Trainer(num_labels, LyricsDataset, 'evaluate')\n",
    "\n",
    "trainer.load_data(x_test, y_test, x_test, y_test, x_val, y_val, 8)\n",
    "\n",
    "trainer.load_model('spotify_noaug_bert') # spot_noaug_bert_5e-05_8\n",
    "\n",
    "acc, loss, report = trainer.evaluate('val')\n",
    "\n",
    "print(acc)\n",
    "\n",
    "print(report)\n",
    "\n",
    "acc, loss, report = trainer.evaluate('test')\n",
    "\n",
    "print(acc)\n",
    "print(report)"
   ]
  },
  {
   "cell_type": "code",
   "execution_count": 9,
   "metadata": {},
   "outputs": [
    {
     "name": "stderr",
     "output_type": "stream",
     "text": [
      "Some weights of BertForSequenceClassification were not initialized from the model checkpoint at bert-base-uncased and are newly initialized: ['classifier.bias', 'classifier.weight']\n",
      "You should probably TRAIN this model on a down-stream task to be able to use it for predictions and inference.\n",
      "c:\\Users\\unsee\\OneDrive\\Desktop\\pytorch_test\\Bert_Trainer.py:47: FutureWarning: You are using `torch.load` with `weights_only=False` (the current default value), which uses the default pickle module implicitly. It is possible to construct malicious pickle data which will execute arbitrary code during unpickling (See https://github.com/pytorch/pytorch/blob/main/SECURITY.md#untrusted-models for more details). In a future release, the default value for `weights_only` will be flipped to `True`. This limits the functions that could be executed during unpickling. Arbitrary objects will no longer be allowed to be loaded via this mode unless they are explicitly allowlisted by the user via `torch.serialization.add_safe_globals`. We recommend you start setting `weights_only=True` for any use case where you don't have full control of the loaded file. Please open an issue on GitHub for any issues related to this experimental feature.\n",
      "  state_dict = torch.load('./models/'+path+'.pth')\n"
     ]
    },
    {
     "name": "stdout",
     "output_type": "stream",
     "text": [
      "0.6694587628865979\n",
      "              precision    recall  f1-score   support\n",
      "\n",
      "           0       0.79      0.68      0.73       430\n",
      "           1       0.68      0.83      0.75       343\n",
      "           2       0.54      0.52      0.53       234\n",
      "           3       0.79      0.68      0.73       241\n",
      "           4       0.47      0.58      0.52       180\n",
      "           5       1.00      0.40      0.57        10\n",
      "           6       0.91      0.59      0.71        17\n",
      "           7       0.87      0.62      0.72        21\n",
      "           8       0.39      0.35      0.37        37\n",
      "           9       0.79      0.79      0.79        39\n",
      "\n",
      "    accuracy                           0.67      1552\n",
      "   macro avg       0.72      0.60      0.64      1552\n",
      "weighted avg       0.68      0.67      0.67      1552\n",
      "\n",
      "0.6417525773195877\n",
      "              precision    recall  f1-score   support\n",
      "\n",
      "           0       0.79      0.62      0.70       448\n",
      "           1       0.66      0.84      0.74       341\n",
      "           2       0.53      0.43      0.48       239\n",
      "           3       0.73      0.71      0.72       234\n",
      "           4       0.42      0.59      0.49       182\n",
      "           5       0.86      0.55      0.67        11\n",
      "           6       0.80      0.33      0.47        12\n",
      "           7       0.73      0.42      0.54        26\n",
      "           8       0.29      0.27      0.28        30\n",
      "           9       0.72      0.79      0.75        29\n",
      "\n",
      "    accuracy                           0.64      1552\n",
      "   macro avg       0.65      0.56      0.58      1552\n",
      "weighted avg       0.66      0.64      0.64      1552\n",
      "\n"
     ]
    }
   ],
   "source": [
    "# evaluate spotify backtrans\n",
    "\n",
    "trainer = Bert_Trainer(num_labels, LyricsDataset, 'evaluate')\n",
    "\n",
    "trainer.load_data(x_test, y_test, x_test, y_test, x_val, y_val, 8)\n",
    "\n",
    "trainer.load_model('spotify_backtrans_bert')\n",
    "\n",
    "acc, loss, report = trainer.evaluate('val')\n",
    "\n",
    "print(acc)\n",
    "\n",
    "print(report)\n",
    "\n",
    "acc, loss, report = trainer.evaluate('test')\n",
    "\n",
    "print(acc)\n",
    "print(report)"
   ]
  },
  {
   "cell_type": "code",
   "execution_count": 10,
   "metadata": {},
   "outputs": [
    {
     "name": "stderr",
     "output_type": "stream",
     "text": [
      "Some weights of BertForSequenceClassification were not initialized from the model checkpoint at bert-base-uncased and are newly initialized: ['classifier.bias', 'classifier.weight']\n",
      "You should probably TRAIN this model on a down-stream task to be able to use it for predictions and inference.\n",
      "c:\\Users\\unsee\\OneDrive\\Desktop\\pytorch_test\\Bert_Trainer.py:47: FutureWarning: You are using `torch.load` with `weights_only=False` (the current default value), which uses the default pickle module implicitly. It is possible to construct malicious pickle data which will execute arbitrary code during unpickling (See https://github.com/pytorch/pytorch/blob/main/SECURITY.md#untrusted-models for more details). In a future release, the default value for `weights_only` will be flipped to `True`. This limits the functions that could be executed during unpickling. Arbitrary objects will no longer be allowed to be loaded via this mode unless they are explicitly allowlisted by the user via `torch.serialization.add_safe_globals`. We recommend you start setting `weights_only=True` for any use case where you don't have full control of the loaded file. Please open an issue on GitHub for any issues related to this experimental feature.\n",
      "  state_dict = torch.load('./models/'+path+'.pth')\n"
     ]
    },
    {
     "name": "stdout",
     "output_type": "stream",
     "text": [
      "0.6643041237113402\n",
      "              precision    recall  f1-score   support\n",
      "\n",
      "           0       0.64      0.88      0.74       430\n",
      "           1       0.80      0.75      0.77       343\n",
      "           2       0.51      0.44      0.47       234\n",
      "           3       0.68      0.72      0.70       241\n",
      "           4       0.58      0.33      0.42       180\n",
      "           5       1.00      0.30      0.46        10\n",
      "           6       0.92      0.65      0.76        17\n",
      "           7       1.00      0.48      0.65        21\n",
      "           8       0.41      0.24      0.31        37\n",
      "           9       0.97      0.72      0.82        39\n",
      "\n",
      "    accuracy                           0.66      1552\n",
      "   macro avg       0.75      0.55      0.61      1552\n",
      "weighted avg       0.67      0.66      0.65      1552\n",
      "\n",
      "0.645618556701031\n",
      "              precision    recall  f1-score   support\n",
      "\n",
      "           0       0.62      0.85      0.71       448\n",
      "           1       0.78      0.74      0.76       341\n",
      "           2       0.54      0.41      0.47       239\n",
      "           3       0.65      0.75      0.69       234\n",
      "           4       0.55      0.30      0.39       182\n",
      "           5       1.00      0.27      0.43        11\n",
      "           6       0.57      0.33      0.42        12\n",
      "           7       0.85      0.42      0.56        26\n",
      "           8       0.33      0.13      0.19        30\n",
      "           9       0.87      0.69      0.77        29\n",
      "\n",
      "    accuracy                           0.65      1552\n",
      "   macro avg       0.67      0.49      0.54      1552\n",
      "weighted avg       0.64      0.65      0.63      1552\n",
      "\n"
     ]
    }
   ],
   "source": [
    "# evaluate spotify classical\n",
    "\n",
    "trainer = Bert_Trainer(num_labels, LyricsDataset, 'evaluate')\n",
    "\n",
    "trainer.load_data(x_test, y_test, x_test, y_test, x_val, y_val, 8)\n",
    "\n",
    "trainer.load_model('spotify_classical_bert_66')\n",
    "\n",
    "acc, loss, report = trainer.evaluate('val')\n",
    "\n",
    "print(acc)\n",
    "\n",
    "print(report)\n",
    "\n",
    "acc, loss, report = trainer.evaluate('test')\n",
    "\n",
    "print(acc)\n",
    "print(report)"
   ]
  },
  {
   "cell_type": "code",
   "execution_count": 11,
   "metadata": {},
   "outputs": [
    {
     "name": "stderr",
     "output_type": "stream",
     "text": [
      "Some weights of BertForSequenceClassification were not initialized from the model checkpoint at bert-base-uncased and are newly initialized: ['classifier.bias', 'classifier.weight']\n",
      "You should probably TRAIN this model on a down-stream task to be able to use it for predictions and inference.\n",
      "c:\\Users\\unsee\\OneDrive\\Desktop\\pytorch_test\\Bert_Trainer.py:47: FutureWarning: You are using `torch.load` with `weights_only=False` (the current default value), which uses the default pickle module implicitly. It is possible to construct malicious pickle data which will execute arbitrary code during unpickling (See https://github.com/pytorch/pytorch/blob/main/SECURITY.md#untrusted-models for more details). In a future release, the default value for `weights_only` will be flipped to `True`. This limits the functions that could be executed during unpickling. Arbitrary objects will no longer be allowed to be loaded via this mode unless they are explicitly allowlisted by the user via `torch.serialization.add_safe_globals`. We recommend you start setting `weights_only=True` for any use case where you don't have full control of the loaded file. Please open an issue on GitHub for any issues related to this experimental feature.\n",
      "  state_dict = torch.load('./models/'+path+'.pth')\n"
     ]
    },
    {
     "name": "stdout",
     "output_type": "stream",
     "text": [
      "0.6643041237113402\n",
      "              precision    recall  f1-score   support\n",
      "\n",
      "           0       0.66      0.83      0.74       430\n",
      "           1       0.87      0.68      0.76       343\n",
      "           2       0.45      0.56      0.50       234\n",
      "           3       0.80      0.65      0.72       241\n",
      "           4       0.54      0.48      0.51       180\n",
      "           5       0.80      0.40      0.53        10\n",
      "           6       0.71      0.71      0.71        17\n",
      "           7       0.71      0.57      0.63        21\n",
      "           8       0.46      0.30      0.36        37\n",
      "           9       0.91      0.74      0.82        39\n",
      "\n",
      "    accuracy                           0.66      1552\n",
      "   macro avg       0.69      0.59      0.63      1552\n",
      "weighted avg       0.68      0.66      0.67      1552\n",
      "\n",
      "0.6533505154639175\n",
      "              precision    recall  f1-score   support\n",
      "\n",
      "           0       0.67      0.81      0.74       448\n",
      "           1       0.82      0.66      0.73       341\n",
      "           2       0.49      0.54      0.52       239\n",
      "           3       0.76      0.68      0.71       234\n",
      "           4       0.49      0.49      0.49       182\n",
      "           5       1.00      0.55      0.71        11\n",
      "           6       0.23      0.25      0.24        12\n",
      "           7       0.80      0.46      0.59        26\n",
      "           8       0.29      0.17      0.21        30\n",
      "           9       0.76      0.76      0.76        29\n",
      "\n",
      "    accuracy                           0.65      1552\n",
      "   macro avg       0.63      0.54      0.57      1552\n",
      "weighted avg       0.66      0.65      0.65      1552\n",
      "\n"
     ]
    }
   ],
   "source": [
    "# evaluate spotify llm\n",
    "\n",
    "trainer = Bert_Trainer(num_labels, LyricsDataset, 'evaluate')\n",
    "\n",
    "trainer.load_data(x_test, y_test, x_test, y_test, x_val, y_val, 8)\n",
    "\n",
    "trainer.load_model('spotify_llm_bert')\n",
    "\n",
    "acc, loss, report = trainer.evaluate('val')\n",
    "\n",
    "print(acc)\n",
    "\n",
    "print(report)\n",
    "\n",
    "acc, loss, report = trainer.evaluate('test')\n",
    "\n",
    "print(acc)\n",
    "print(report)"
   ]
  }
 ],
 "metadata": {
  "kernelspec": {
   "display_name": "base",
   "language": "python",
   "name": "python3"
  },
  "language_info": {
   "codemirror_mode": {
    "name": "ipython",
    "version": 3
   },
   "file_extension": ".py",
   "mimetype": "text/x-python",
   "name": "python",
   "nbconvert_exporter": "python",
   "pygments_lexer": "ipython3",
   "version": "3.10.15"
  }
 },
 "nbformat": 4,
 "nbformat_minor": 2
}
