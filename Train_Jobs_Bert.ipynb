{
 "cells": [
  {
   "cell_type": "code",
   "execution_count": null,
   "metadata": {},
   "outputs": [],
   "source": [
    "import pandas as pd\n",
    "from DataSets import JobDescDataset\n",
    "from Data_Reader import Linkedin_Data_Reader\n",
    "\n",
    "reader = Linkedin_Data_Reader()\n",
    "\n",
    "x_train, y_train, x_train_backtrans, y_train_backtrans, x_train_llm, y_train_llm, x_train_classical, y_train_classical = reader.read_training()\n",
    "x_test, y_test, x_val, y_val = reader.read_test_val()\n",
    "num_labels = reader.get_num_labels()"
   ]
  },
  {
   "cell_type": "code",
   "execution_count": null,
   "metadata": {},
   "outputs": [
    {
     "name": "stderr",
     "output_type": "stream",
     "text": [
      "Some weights of BertForSequenceClassification were not initialized from the model checkpoint at bert-base-uncased and are newly initialized: ['classifier.bias', 'classifier.weight']\n",
      "You should probably TRAIN this model on a down-stream task to be able to use it for predictions and inference.\n"
     ]
    },
    {
     "name": "stdout",
     "output_type": "stream",
     "text": [
      "Running Epoch 1/10...\n",
      "computing batch 1774/1775\n",
      "Epoch 1/10 Results                  \n",
      "Training loss: 0.37078354400333385\n",
      "Training accuracy: 0.9055633802816901\n",
      "Validation Loss: 0.25720547366182545\n",
      "Validation Accuracy: 0.9324324324324325\n",
      "\n",
      "Running Epoch 2/10...\n",
      "computing batch 1774/1775\n",
      "Epoch 2/10 Results                  \n",
      "Training loss: 0.19132603818839286\n",
      "Training accuracy: 0.9534507042253522\n",
      "Validation Loss: 0.19747642434814627\n",
      "Validation Accuracy: 0.9470720720720721\n",
      "\n",
      "Running Epoch 3/10...\n",
      "computing batch 1774/1775\n",
      "Epoch 3/10 Results                  \n",
      "Training loss: 0.14598063121077565\n",
      "Training accuracy: 0.9638028169014085\n",
      "Validation Loss: 0.22140970972140092\n",
      "Validation Accuracy: 0.9436936936936937\n",
      "\n",
      "Running Epoch 4/10...\n",
      "computing batch 1774/1775\n",
      "Epoch 4/10 Results                  \n",
      "Training loss: 0.12260797736680948\n",
      "Training accuracy: 0.9716197183098592\n",
      "Validation Loss: 0.22657451419860358\n",
      "Validation Accuracy: 0.9515765765765766\n",
      "\n",
      "Running Epoch 5/10...\n",
      "computing batch 1774/1775\n",
      "Epoch 5/10 Results                  \n",
      "Training loss: 0.10555631802004145\n",
      "Training accuracy: 0.9751408450704225\n",
      "Validation Loss: 0.18967216106777726\n",
      "Validation Accuracy: 0.9588963963963963\n",
      "\n",
      "Running Epoch 6/10...\n",
      "computing batch 1774/1775\n",
      "Epoch 6/10 Results                  \n",
      "Training loss: 0.0786749482231582\n",
      "Training accuracy: 0.9827464788732394\n",
      "Validation Loss: 0.23977637532542603\n",
      "Validation Accuracy: 0.9510135135135135\n",
      "\n",
      "Running Epoch 7/10...\n",
      "computing batch 1774/1775\n",
      "Epoch 7/10 Results                  \n",
      "Training loss: 0.0787906390099301\n",
      "Training accuracy: 0.9826760563380281\n",
      "Validation Loss: 0.18979563182408646\n",
      "Validation Accuracy: 0.9566441441441441\n",
      "\n",
      "Running Epoch 8/10...\n",
      "computing batch 1774/1775\n",
      "Epoch 8/10 Results                  \n",
      "Training loss: 0.0834094332302527\n",
      "Training accuracy: 0.9808450704225352\n",
      "Validation Loss: 0.2148311738693575\n",
      "Validation Accuracy: 0.9583333333333334\n",
      "\n",
      "Running Epoch 9/10...\n",
      "computing batch 1774/1775\n",
      "Epoch 9/10 Results                  \n",
      "Training loss: 0.05258250586842646\n",
      "Training accuracy: 0.9891549295774648\n",
      "Validation Loss: 0.25778294245655825\n",
      "Validation Accuracy: 0.9515765765765766\n",
      "\n",
      "Running Epoch 10/10...\n",
      "computing batch 1774/1775\n",
      "Epoch 10/10 Results                  \n",
      "Training loss: 0.062290398278667156\n",
      "Training accuracy: 0.9863380281690141\n",
      "Validation Loss: 0.5258550971226247\n",
      "Validation Accuracy: 0.8699324324324325\n",
      "\n",
      "stopping early..\n"
     ]
    },
    {
     "ename": "",
     "evalue": "",
     "output_type": "error",
     "traceback": [
      "\u001b[1;31mThe Kernel crashed while executing code in the current cell or a previous cell. \n",
      "\u001b[1;31mPlease review the code in the cell(s) to identify a possible cause of the failure. \n",
      "\u001b[1;31mClick <a href='https://aka.ms/vscodeJupyterKernelCrash'>here</a> for more info. \n",
      "\u001b[1;31mView Jupyter <a href='command:jupyter.viewOutput'>log</a> for further details."
     ]
    }
   ],
   "source": [
    "from Bert_Trainer import Bert_Trainer\n",
    "\n",
    "trainer = Bert_Trainer(num_labels=num_labels, dataset=JobDescDataset, model_save_name='linkedin_noaug_bert')\n",
    "\n",
    "trainer.load_data(x_train, y_train, x_test, y_test, x_val, y_val, batch_size=8)\n",
    "\n",
    "trainer.train(lr=5e-5, epochs=10, early_stopping=True, early_stopping_tol=0.03)\n",
    "\n",
    "trainer.save_model()"
   ]
  },
  {
   "cell_type": "code",
   "execution_count": null,
   "metadata": {},
   "outputs": [
    {
     "name": "stderr",
     "output_type": "stream",
     "text": [
      "Some weights of BertForSequenceClassification were not initialized from the model checkpoint at bert-base-uncased and are newly initialized: ['classifier.bias', 'classifier.weight']\n",
      "You should probably TRAIN this model on a down-stream task to be able to use it for predictions and inference.\n"
     ]
    },
    {
     "name": "stdout",
     "output_type": "stream",
     "text": [
      "Running Epoch 1/10...\n",
      "computing batch 1995/1996\n",
      "Epoch 1/10 Results                  \n",
      "Training loss: 0.3131060683796507\n",
      "Training accuracy: 0.9188122533358392\n",
      "Validation Loss: 0.2584938380808511\n",
      "Validation Accuracy: 0.9358108108108109\n",
      "\n",
      "Running Epoch 2/10...\n",
      "computing batch 1995/1996\n",
      "Epoch 2/10 Results                  \n",
      "Training loss: 0.1720844359733892\n",
      "Training accuracy: 0.9581532293428554\n",
      "Validation Loss: 0.20744233191441241\n",
      "Validation Accuracy: 0.9431306306306306\n",
      "\n",
      "Running Epoch 3/10...\n",
      "computing batch 1995/1996\n",
      "Epoch 3/10 Results                  \n",
      "Training loss: 0.13766826324739712\n",
      "Training accuracy: 0.965482678694481\n",
      "Validation Loss: 0.23050619930926677\n",
      "Validation Accuracy: 0.9448198198198198\n",
      "\n",
      "Running Epoch 4/10...\n",
      "computing batch 1995/1996\n",
      "Epoch 4/10 Results                  \n",
      "Training loss: 0.12580703308419483\n",
      "Training accuracy: 0.9686775668733947\n",
      "Validation Loss: 0.21521586029337267\n",
      "Validation Accuracy: 0.9510135135135135\n",
      "\n",
      "Running Epoch 5/10...\n",
      "computing batch 1995/1996\n",
      "Epoch 5/10 Results                  \n",
      "Training loss: 0.10061922387360177\n",
      "Training accuracy: 0.9752552778299818\n",
      "Validation Loss: 0.20148352901755437\n",
      "Validation Accuracy: 0.9577702702702703\n",
      "\n",
      "Running Epoch 6/10...\n",
      "computing batch 1995/1996\n",
      "Epoch 6/10 Results                  \n",
      "Training loss: 0.08299431668112488\n",
      "Training accuracy: 0.9812065401240369\n",
      "Validation Loss: 0.1983650827146899\n",
      "Validation Accuracy: 0.9515765765765766\n",
      "\n",
      "Running Epoch 7/10...\n",
      "computing batch 1995/1996\n",
      "Epoch 7/10 Results                  \n",
      "Training loss: 0.07104191529565843\n",
      "Training accuracy: 0.9820209233853285\n",
      "Validation Loss: 0.2205505325733726\n",
      "Validation Accuracy: 0.954954954954955\n",
      "\n",
      "Running Epoch 8/10...\n",
      "computing batch 1995/1996\n",
      "Epoch 8/10 Results                  \n",
      "Training loss: 0.062260254249718594\n",
      "Training accuracy: 0.9857796153605212\n",
      "Validation Loss: 0.22946305595614175\n",
      "Validation Accuracy: 0.9577702702702703\n",
      "\n",
      "Running Epoch 9/10...\n",
      "computing batch 1995/1996\n",
      "Epoch 9/10 Results                  \n",
      "Training loss: 0.05578015950142256\n",
      "Training accuracy: 0.9863434191568001\n",
      "Validation Loss: 0.24764621188247427\n",
      "Validation Accuracy: 0.9504504504504504\n",
      "\n",
      "Running Epoch 10/10...\n",
      "computing batch 1995/1996\n",
      "Epoch 10/10 Results                  \n",
      "Training loss: 0.04852380426697977\n",
      "Training accuracy: 0.988974503539435\n",
      "Validation Loss: 0.2644889410742483\n",
      "Validation Accuracy: 0.9510135135135135\n",
      "\n"
     ]
    }
   ],
   "source": [
    "from Bert_Trainer import Bert_Trainer\n",
    "\n",
    "trainer = Bert_Trainer(num_labels=num_labels, dataset=JobDescDataset, model_save_name='linkedin_backtrans_bert')\n",
    "\n",
    "trainer.load_data(x_train_backtrans, y_train_backtrans, x_test, y_test, x_val, y_val, batch_size=8)\n",
    "\n",
    "trainer.train(lr=5e-5, epochs=10, early_stopping=True, early_stopping_tol=0.05)\n",
    "\n",
    "trainer.save_model()"
   ]
  },
  {
   "cell_type": "code",
   "execution_count": 3,
   "metadata": {},
   "outputs": [
    {
     "name": "stderr",
     "output_type": "stream",
     "text": [
      "Some weights of BertForSequenceClassification were not initialized from the model checkpoint at bert-base-uncased and are newly initialized: ['classifier.bias', 'classifier.weight']\n",
      "You should probably TRAIN this model on a down-stream task to be able to use it for predictions and inference.\n"
     ]
    },
    {
     "name": "stdout",
     "output_type": "stream",
     "text": [
      "Running Epoch 1/10...\n",
      "computing batch 5/1920\r"
     ]
    },
    {
     "ename": "",
     "evalue": "",
     "output_type": "error",
     "traceback": [
      "\u001b[1;31mThe Kernel crashed while executing code in the current cell or a previous cell. \n",
      "\u001b[1;31mPlease review the code in the cell(s) to identify a possible cause of the failure. \n",
      "\u001b[1;31mClick <a href='https://aka.ms/vscodeJupyterKernelCrash'>here</a> for more info. \n",
      "\u001b[1;31mView Jupyter <a href='command:jupyter.viewOutput'>log</a> for further details."
     ]
    }
   ],
   "source": [
    "from Bert_Trainer import Bert_Trainer\n",
    "\n",
    "trainer = Bert_Trainer(num_labels=num_labels, dataset=JobDescDataset, model_save_name='linkedin_llm_bert')\n",
    "\n",
    "trainer.load_data(x_train_llm, y_train_llm, x_test, y_test, x_val, y_val, batch_size=8)\n",
    "\n",
    "trainer.train(lr=5e-5, epochs=10, early_stopping=True, early_stopping_tol=0.02)\n",
    "\n",
    "trainer.save_model()"
   ]
  },
  {
   "cell_type": "code",
   "execution_count": null,
   "metadata": {},
   "outputs": [
    {
     "name": "stderr",
     "output_type": "stream",
     "text": [
      "Some weights of BertForSequenceClassification were not initialized from the model checkpoint at bert-base-uncased and are newly initialized: ['classifier.bias', 'classifier.weight']\n",
      "You should probably TRAIN this model on a down-stream task to be able to use it for predictions and inference.\n"
     ]
    },
    {
     "name": "stdout",
     "output_type": "stream",
     "text": [
      "Running Epoch 1/10...\n",
      "computing batch 3/1920\r"
     ]
    }
   ],
   "source": [
    "from Bert_Trainer import Bert_Trainer\n",
    "\n",
    "trainer = Bert_Trainer(num_labels=num_labels, dataset=JobDescDataset, model_save_name='linkedin_classical_bert')\n",
    "\n",
    "trainer.load_data(x_train_classical, y_train_classical, x_test, y_test, x_val, y_val, batch_size=8)\n",
    "\n",
    "trainer.train(lr=5e-5, epochs=10, early_stopping=True, early_stopping_tol=0.02)\n",
    "\n",
    "trainer.save_model()"
   ]
  }
 ],
 "metadata": {
  "kernelspec": {
   "display_name": "base",
   "language": "python",
   "name": "python3"
  },
  "language_info": {
   "codemirror_mode": {
    "name": "ipython",
    "version": 3
   },
   "file_extension": ".py",
   "mimetype": "text/x-python",
   "name": "python",
   "nbconvert_exporter": "python",
   "pygments_lexer": "ipython3",
   "version": "3.10.15"
  }
 },
 "nbformat": 4,
 "nbformat_minor": 2
}
